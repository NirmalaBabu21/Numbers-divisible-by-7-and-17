{
  "nbformat": 4,
  "nbformat_minor": 0,
  "metadata": {
    "colab": {
      "name": "divisible by 7 & 17.ipynb",
      "provenance": [],
      "collapsed_sections": []
    },
    "kernelspec": {
      "name": "python3",
      "display_name": "Python 3"
    },
    "language_info": {
      "name": "python"
    }
  },
  "cells": [
    {
      "cell_type": "markdown",
      "source": [
        "Write a Python program to create a series from 1 to 1000 and select\n",
        "only numbers divisible by 7 and 17."
      ],
      "metadata": {
        "id": "V4a-CO6YaV7x"
      }
    },
    {
      "cell_type": "code",
      "source": [
        "a=[]\n",
        "for i in range(1,1000):\n",
        "  if (((i%7)==0) & ((i%17)==0)):\n",
        "    a.append(i)\n",
        "s= pd.Series(a)\n",
        "s"
      ],
      "metadata": {
        "colab": {
          "base_uri": "https://localhost:8080/"
        },
        "id": "Jd_ose0ZabYL",
        "outputId": "3a94ad81-a3b0-4754-9190-f47cc18a156d"
      },
      "execution_count": null,
      "outputs": [
        {
          "output_type": "execute_result",
          "data": {
            "text/plain": [
              "0    119\n",
              "1    238\n",
              "2    357\n",
              "3    476\n",
              "4    595\n",
              "5    714\n",
              "6    833\n",
              "7    952\n",
              "dtype: int64"
            ]
          },
          "metadata": {},
          "execution_count": 22
        }
      ]
    }
  ]
}